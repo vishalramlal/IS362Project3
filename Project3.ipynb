{
 "cells": [
  {
   "cell_type": "markdown",
   "id": "24888a28",
   "metadata": {},
   "source": [
    "# IS362 Project 3\n",
    "Your assignment involves combining information from a number of SQL tables, then displaying the information in a pandas DataFrame. For your relational database management system, you may use any RDBMS, including MySQL, PostgreSQL, sqlite, or any of the other RDMBSs supported by the database."
   ]
  },
  {
   "cell_type": "markdown",
   "id": "c0a0cf7c",
   "metadata": {},
   "source": [
    "##### First, all required modules must be loaded:"
   ]
  },
  {
   "cell_type": "code",
   "execution_count": 1,
   "id": "1ef77b0c",
   "metadata": {},
   "outputs": [],
   "source": [
    "import pandas as pd\n",
    "\n",
    "from sqlalchemy import create_engine\n",
    "\n",
    "import mysql.connector as msql"
   ]
  },
  {
   "cell_type": "markdown",
   "id": "40aeaa03",
   "metadata": {},
   "source": [
    "##### Now the Chinook database will be connected via the MySQL connector:"
   ]
  },
  {
   "cell_type": "code",
   "execution_count": 2,
   "id": "4bd73d21",
   "metadata": {},
   "outputs": [],
   "source": [
    "db_connection_str = msql.connect(host = 'localhost', database = 'Chinook', user = 'DBuser1', password = 'password', auth_plugin = 'mysql_native_password')"
   ]
  },
  {
   "cell_type": "markdown",
   "id": "3c8b9ddc",
   "metadata": {},
   "source": [
    "##### Next, the sql query for the required data must be written, and saved in a variable \"sql_query\":"
   ]
  },
  {
   "cell_type": "code",
   "execution_count": 3,
   "id": "a439959e",
   "metadata": {},
   "outputs": [],
   "source": [
    "sql_query = '''SELECT Customer.LastName, Customer.FirstName, Track.Name, Album.Title FROM Customer INNER JOIN Invoice ON Customer.CustomerId = Invoice.CustomerId INNER JOIN InvoiceLine ON Invoice.InvoiceId = InvoiceLine.InvoiceId INNER JOIN Track ON InvoiceLine.TrackId = Track.TrackId INNER JOIN Album ON Track.AlbumId = Album.AlbumId ORDER BY Customer.LastName, Customer.FirstName'''"
   ]
  },
  {
   "cell_type": "markdown",
   "id": "89d9807e",
   "metadata": {},
   "source": [
    "##### Now the data can be read into a pandas dataframe and displayed:"
   ]
  },
  {
   "cell_type": "code",
   "execution_count": 4,
   "id": "c65d978b",
   "metadata": {},
   "outputs": [
    {
     "data": {
      "text/html": [
       "<div>\n",
       "<style scoped>\n",
       "    .dataframe tbody tr th:only-of-type {\n",
       "        vertical-align: middle;\n",
       "    }\n",
       "\n",
       "    .dataframe tbody tr th {\n",
       "        vertical-align: top;\n",
       "    }\n",
       "\n",
       "    .dataframe thead th {\n",
       "        text-align: right;\n",
       "    }\n",
       "</style>\n",
       "<table border=\"1\" class=\"dataframe\">\n",
       "  <thead>\n",
       "    <tr style=\"text-align: right;\">\n",
       "      <th></th>\n",
       "      <th>LastName</th>\n",
       "      <th>FirstName</th>\n",
       "      <th>Name</th>\n",
       "      <th>Title</th>\n",
       "    </tr>\n",
       "  </thead>\n",
       "  <tbody>\n",
       "    <tr>\n",
       "      <th>0</th>\n",
       "      <td>Almeida</td>\n",
       "      <td>Roberto</td>\n",
       "      <td>Right Next Door to Hell</td>\n",
       "      <td>Use Your Illusion I</td>\n",
       "    </tr>\n",
       "    <tr>\n",
       "      <th>1</th>\n",
       "      <td>Almeida</td>\n",
       "      <td>Roberto</td>\n",
       "      <td>In The Evening</td>\n",
       "      <td>In Through The Out Door</td>\n",
       "    </tr>\n",
       "    <tr>\n",
       "      <th>2</th>\n",
       "      <td>Almeida</td>\n",
       "      <td>Roberto</td>\n",
       "      <td>Fool In The Rain</td>\n",
       "      <td>In Through The Out Door</td>\n",
       "    </tr>\n",
       "    <tr>\n",
       "      <th>3</th>\n",
       "      <td>Almeida</td>\n",
       "      <td>Roberto</td>\n",
       "      <td>Saudade Dos Aviões Da Panair (Conversando No Bar)</td>\n",
       "      <td>Minas</td>\n",
       "    </tr>\n",
       "    <tr>\n",
       "      <th>4</th>\n",
       "      <td>Almeida</td>\n",
       "      <td>Roberto</td>\n",
       "      <td>Caso Você Queira Saber</td>\n",
       "      <td>Minas</td>\n",
       "    </tr>\n",
       "  </tbody>\n",
       "</table>\n",
       "</div>"
      ],
      "text/plain": [
       "  LastName FirstName                                               Name  \\\n",
       "0  Almeida   Roberto                            Right Next Door to Hell   \n",
       "1  Almeida   Roberto                                     In The Evening   \n",
       "2  Almeida   Roberto                                   Fool In The Rain   \n",
       "3  Almeida   Roberto  Saudade Dos Aviões Da Panair (Conversando No Bar)   \n",
       "4  Almeida   Roberto                             Caso Você Queira Saber   \n",
       "\n",
       "                     Title  \n",
       "0      Use Your Illusion I  \n",
       "1  In Through The Out Door  \n",
       "2  In Through The Out Door  \n",
       "3                    Minas  \n",
       "4                    Minas  "
      ]
     },
     "execution_count": 4,
     "metadata": {},
     "output_type": "execute_result"
    }
   ],
   "source": [
    "dframe = pd.read_sql(sql_query, db_connection_str)\n",
    "\n",
    "dframe.head()"
   ]
  }
 ],
 "metadata": {
  "kernelspec": {
   "display_name": "Python 3",
   "language": "python",
   "name": "python3"
  },
  "language_info": {
   "codemirror_mode": {
    "name": "ipython",
    "version": 3
   },
   "file_extension": ".py",
   "mimetype": "text/x-python",
   "name": "python",
   "nbconvert_exporter": "python",
   "pygments_lexer": "ipython3",
   "version": "3.8.10"
  }
 },
 "nbformat": 4,
 "nbformat_minor": 5
}
